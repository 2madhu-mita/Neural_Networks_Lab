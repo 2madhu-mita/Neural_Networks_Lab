{
  "nbformat": 4,
  "nbformat_minor": 0,
  "metadata": {
    "colab": {
      "provenance": []
    },
    "kernelspec": {
      "name": "python3",
      "display_name": "Python 3"
    },
    "language_info": {
      "name": "python"
    }
  },
  "cells": [
    {
      "cell_type": "markdown",
      "source": [
        "##AND Gate"
      ],
      "metadata": {
        "id": "K_gl3zq1_8F0"
      }
    },
    {
      "cell_type": "code",
      "source": [
        "import numpy as np\n",
        "X=np.asarray([[0,0],[0,1],[1,0],[1,1]])\n",
        "y=np.asarray([0,0,0,1])\n",
        "y_pred=np.asarray([0,0,0,0])\n",
        "wts=np.asarray([1,1])\n",
        "threshold=1.5\n",
        "for i in range(X.shape[0]):\n",
        "    x=X[i]\n",
        "    sw=np.dot(x,wts)\n",
        "    if sw>=threshold:\n",
        "        y_pred[i]=1\n",
        "    else:\n",
        "        y_pred[i]=0\n",
        "print(y_pred)"
      ],
      "metadata": {
        "colab": {
          "base_uri": "https://localhost:8080/"
        },
        "id": "Tm0DJrrKAB5R",
        "outputId": "48b457fa-78f0-43b9-df18-be2350854396"
      },
      "execution_count": 1,
      "outputs": [
        {
          "output_type": "stream",
          "name": "stdout",
          "text": [
            "[0 0 0 1]\n"
          ]
        }
      ]
    },
    {
      "cell_type": "markdown",
      "source": [
        "##OR Gate"
      ],
      "metadata": {
        "id": "bsgyCDvhztR_"
      }
    },
    {
      "cell_type": "code",
      "source": [
        "import numpy as np\n",
        "X=np.asarray([[0,0],[0,1],[1,0],[1,1]])\n",
        "y=np.asarray([0,1,1,1])\n",
        "y_pred=np.asarray([0,0,0,0])\n",
        "wts=np.asarray([1.5,1.5])\n",
        "threshold=1.5\n",
        "for i in range(X.shape[0]):\n",
        "    x=X[i]\n",
        "    sw=np.dot(x,wts)\n",
        "    if sw>=threshold:\n",
        "        y_pred[i]=1\n",
        "    else:\n",
        "        y_pred[i]=0\n",
        "print(y_pred)"
      ],
      "metadata": {
        "colab": {
          "base_uri": "https://localhost:8080/"
        },
        "id": "4xbeLAPtzv_p",
        "outputId": "8817ede8-cead-4e47-877b-7d35e257cf94"
      },
      "execution_count": 4,
      "outputs": [
        {
          "output_type": "stream",
          "name": "stdout",
          "text": [
            "[0 1 1 1]\n"
          ]
        }
      ]
    }
  ]
}